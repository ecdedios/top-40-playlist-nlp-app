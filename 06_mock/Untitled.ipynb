{
 "cells": [
  {
   "cell_type": "code",
   "execution_count": 1,
   "metadata": {},
   "outputs": [],
   "source": [
    "# to manipulate dataframes\n",
    "import pandas as pd\n",
    "\n",
    "# for natural language processing: named entity recognition\n",
    "import spacy\n",
    "from spacy import displacy\n",
    "from collections import Counter\n",
    "import en_core_web_sm\n",
    "nlp = en_core_web_sm.load()"
   ]
  },
  {
   "cell_type": "code",
   "execution_count": 2,
   "metadata": {},
   "outputs": [],
   "source": [
    "df = pd.read_csv('sample.csv')"
   ]
  },
  {
   "cell_type": "code",
   "execution_count": 3,
   "metadata": {},
   "outputs": [],
   "source": [
    "# named entity recognition\n",
    "ARTICLE = nlp(''.join(str(df.iloc[:,0].tolist())))"
   ]
  },
  {
   "cell_type": "code",
   "execution_count": 4,
   "metadata": {},
   "outputs": [
    {
     "data": {
      "text/plain": [
       "['Hulu', 'Netflix', 'Donald Trump', 'Kamala Harris', 'Hilary Clinton', 'Bernie Sanders', 'Joe Biden', 'Texas', 'Coronavirus', 'COVID-19', 'Apple', 'Hulu', 'Netflix', 'Donald Trump', 'Kamala Harris', 'Hilary Clinton', 'Bernie Sanders', 'Joe Biden', 'Texas', 'Coronavirus', 'COVID-19', 'Apple', 'Hulu', 'Netflix', 'Donald Trump', 'Kamala Harris', 'Hilary Clinton', 'Bernie Sanders', 'Joe Biden', 'Texas', 'Coronavirus', 'COVID-19', 'Apple', 'Hulu', 'Netflix', 'Donald Trump', 'Kamala Harris', 'Hilary Clinton', 'Bernie Sanders', 'Joe Biden', 'Texas', 'Coronavirus', 'COVID-19', 'Apple', 'Hulu', 'Netflix', 'Donald Trump', 'Kamala Harris', 'Hilary Clinton', 'Bernie Sanders', 'Joe Biden', 'Texas', 'Coronavirus', 'COVID-19', 'Apple', 'Hulu', 'Netflix', 'Donald Trump', 'Kamala Harris', 'Hilary Clinton', 'Bernie Sanders', 'Joe Biden', 'Texas', 'Coronavirus', 'COVID-19', 'Apple', 'Hulu', 'Netflix', 'Donald Trump', 'Kamala Harris', 'Hilary Clinton', 'Bernie Sanders', 'Joe Biden', 'Texas', 'Coronavirus', 'COVID-19', 'Apple', 'Hulu', 'Netflix', 'Donald Trump', 'Kamala Harris', 'Hilary Clinton', 'Bernie Sanders', 'Joe Biden', 'Texas', 'Coronavirus', 'COVID-19', 'Apple', 'Hulu', 'Netflix', 'Donald Trump', 'Kamala Harris', 'Hilary Clinton', 'Bernie Sanders', 'Joe Biden', 'Texas', 'Coronavirus', 'COVID-19', 'Apple', 'Hulu', 'Netflix', 'Donald Trump', 'Kamala Harris', 'Hilary Clinton', 'Bernie Sanders', 'Joe Biden', 'Texas', 'Coronavirus', 'COVID-19', 'Donald Trump', 'Donald Trump', 'Donald Trump', 'Donald Trump', 'Donald Trump', 'Donald Trump', 'Donald Trump', 'Donald Trump', 'Donald Trump', 'Donald Trump', 'Donald Trump', 'Donald Trump', 'Donald Trump', 'Donald Trump', 'Donald Trump', 'Donald Trump', 'Donald Trump', 'Donald Trump', 'Donald Trump', 'Donald Trump', 'Donald Trump', 'Donald Trump', 'Donald Trump', 'Donald Trump', 'Clinton', 'Clinton', 'Clinton', 'Clinton', 'Clinton', 'Clinton', 'Clinton', 'Clinton', 'COVID-19', 'Coronavirus', 'Coronavirus', 'Coronavirus', 'Coronavirus', 'Coronavirus', 'Coronavirus', 'Coronavirus', 'Coronavirus', 'COVID-19', 'COVID-19', 'COVID-19', 'COVID-19', 'COVID-19', 'Texas', 'Iran', 'Apple', 'Hulu', 'Netflix', 'Donald Trump', 'Kamala Harris', 'Hilary Clinton', 'Bernie Sanders', 'Joe Biden', 'Texas', 'Coronavirus', 'COVID-19', 'Apple', 'Hulu', 'Netflix', 'Donald Trump', 'Kamala Harris', 'Hilary Clinton', 'Bernie Sanders', 'Joe Biden', 'Texas', 'Coronavirus', 'COVID-19', 'Apple', 'Hulu', 'Netflix', 'Donald Trump', 'Kamala Harris', 'Hilary Clinton', 'Bernie Sanders', 'Joe Biden', 'Texas', 'Coronavirus', 'COVID-19', 'Apple', 'Hulu', 'Netflix', 'Donald Trump', 'Kamala Harris', 'Hilary Clinton', 'Bernie Sanders', 'Joe Biden', 'Texas', 'Coronavirus', 'COVID-19', 'Apple', 'Hulu', 'Netflix', 'Donald Trump', 'Kamala Harris', 'Hilary Clinton', 'Bernie Sanders', 'Joe Biden', 'Texas', 'Coronavirus', 'COVID-19', 'Apple', 'Hulu', 'Netflix', 'Donald Trump', 'Kamala Harris', 'Hilary Clinton', 'Bernie Sanders', 'Joe Biden', 'Texas', 'Coronavirus', 'COVID-19', 'Apple', 'Hulu', 'Netflix', 'Donald Trump', 'Kamala Harris', 'Hilary Clinton', 'Bernie Sanders', 'Joe Biden', 'Texas', 'Coronavirus', 'COVID-19', 'Apple', 'Hulu', 'Netflix', 'Donald Trump', 'Kamala Harris', 'Hilary Clinton', 'Bernie Sanders', 'Joe Biden', 'Texas', 'Coronavirus', 'COVID-19', 'Apple', 'Hulu', 'Netflix', 'Donald Trump', 'Kamala Harris', 'Hilary Clinton', 'Bernie Sanders', 'Joe Biden', 'Texas', 'Coronavirus', 'COVID-19', 'Apple', 'Hulu', 'Netflix', 'Donald Trump', 'Kamala Harris', 'Hilary Clinton', 'Bernie Sanders', 'Joe Biden', 'Texas', 'Coronavirus', 'COVID-19', 'Donald Trump', 'Donald Trump', 'Donald Trump', 'Donald Trump', 'Donald Trump', 'Donald Trump', 'Donald Trump', 'Donald Trump', 'Donald Trump', 'Donald Trump', 'Donald Trump', 'Donald Trump', 'Donald Trump', 'Donald Trump', 'Donald Trump', 'Donald Trump', 'Donald Trump', 'Donald Trump', 'Donald Trump', 'Donald Trump', 'Donald Trump', 'Donald Trump', 'Donald Trump', 'Donald Trump', 'Clinton', 'Clinton', 'Clinton', 'Clinton', 'Clinton', 'Clinton', 'Clinton', 'Clinton', 'COVID-19', 'Coronavirus', 'Coronavirus', 'Coronavirus', 'Coronavirus', 'Coronavirus', 'Coronavirus', 'Coronavirus', 'Coronavirus', 'COVID-19', 'COVID-19', 'COVID-19', 'COVID-19', 'COVID-19', 'Texas', 'Iran', 'Apple', 'Hulu', 'Netflix', 'Donald Trump', 'Kamala Harris', 'Hilary Clinton', 'Bernie Sanders', 'Joe Biden', 'Texas', 'Coronavirus', 'COVID-19', 'Apple', 'Hulu', 'Netflix', 'Donald Trump', 'Kamala Harris', 'Hilary Clinton', 'Bernie Sanders', 'Joe Biden', 'Texas', 'Coronavirus', 'COVID-19', 'Apple', 'Hulu', 'Netflix', 'Donald Trump', 'Kamala Harris', 'Hilary Clinton', 'Bernie Sanders', 'Joe Biden', 'Texas', 'Coronavirus', 'COVID-19', 'Apple', 'Hulu', 'Netflix', 'Donald Trump', 'Kamala Harris', 'Hilary Clinton', 'Bernie Sanders', 'Joe Biden', 'Texas', 'Coronavirus', 'COVID-19', 'Apple', 'Hulu', 'Netflix', 'Donald Trump', 'Kamala Harris', 'Hilary Clinton', 'Bernie Sanders', 'Joe Biden', 'Texas', 'Coronavirus', 'COVID-19', 'Apple', 'Hulu', 'Netflix', 'Donald Trump', 'Kamala Harris', 'Hilary Clinton', 'Bernie Sanders', 'Joe Biden', 'Texas', 'Coronavirus', 'COVID-19', 'Apple', 'Hulu', 'Netflix', 'Donald Trump', 'Kamala Harris', 'Hilary Clinton', 'Bernie Sanders', 'Joe Biden', 'Texas', 'Coronavirus', 'COVID-19', 'Apple', 'Hulu', 'Netflix', 'Donald Trump', 'Kamala Harris', 'Hilary Clinton', 'Bernie Sanders', 'Joe Biden', 'Texas', 'Coronavirus', 'COVID-19', 'Apple', 'Hulu', 'Netflix', 'Donald Trump', 'Kamala Harris', 'Hilary Clinton', 'Bernie Sanders', 'Joe Biden', 'Texas', 'Coronavirus', 'COVID-19', 'Apple', 'Hulu', 'Netflix', 'Donald Trump', 'Kamala Harris', 'Hilary Clinton', 'Bernie Sanders', 'Joe Biden', 'Texas', 'Coronavirus', 'COVID-19', 'Donald Trump', 'Donald Trump', 'Donald Trump', 'Donald Trump', 'Donald Trump', 'Donald Trump', 'Donald Trump', 'Donald Trump', 'Donald Trump', 'Donald Trump', 'Donald Trump', 'Donald Trump', 'Donald Trump', 'Donald Trump', 'Donald Trump', 'Donald Trump', 'Donald Trump', 'Donald Trump', 'Donald Trump', 'Donald Trump', 'Donald Trump', 'Donald Trump', 'Donald Trump', 'Donald Trump', 'Clinton', 'Clinton', 'Clinton', 'Clinton', 'Clinton', 'Clinton', 'Clinton', 'Clinton', 'COVID-19', 'Coronavirus', 'Coronavirus', 'Coronavirus', 'Coronavirus', 'Coronavirus', 'Coronavirus', 'Coronavirus', 'Coronavirus', 'COVID-19', 'COVID-19', 'COVID-19', 'COVID-19', 'COVID-19', 'Texas', 'Iran', 'Apple', 'Hulu', 'Netflix', 'Donald Trump', 'Kamala Harris', 'Hilary Clinton', 'Bernie Sanders', 'Joe Biden', 'Texas', 'Coronavirus', 'COVID-19', 'Apple', 'Hulu', 'Netflix', 'Donald Trump', 'Kamala Harris', 'Hilary Clinton', 'Bernie Sanders', 'Joe Biden', 'Texas', 'Coronavirus', 'COVID-19', 'Apple', 'Hulu', 'Netflix', 'Donald Trump', 'Kamala Harris', 'Hilary Clinton', 'Bernie Sanders', 'Joe Biden', 'Texas', 'Coronavirus', 'COVID-19', 'Apple', 'Hulu', 'Netflix', 'Donald Trump', 'Kamala Harris', 'Hilary Clinton', 'Bernie Sanders', 'Joe Biden', 'Texas', 'Coronavirus', 'COVID-19', 'Apple', 'Hulu', 'Netflix', 'Donald Trump', 'Kamala Harris', 'Hilary Clinton', 'Bernie Sanders', 'Joe Biden', 'Texas', 'Coronavirus', 'COVID-19', 'Apple', 'Hulu', 'Netflix', 'Donald Trump', 'Kamala Harris', 'Hilary Clinton', 'Bernie Sanders', 'Joe Biden', 'Texas', 'Coronavirus', 'COVID-19', 'Apple', 'Hulu', 'Netflix', 'Donald Trump', 'Kamala Harris', 'Hilary Clinton', 'Bernie Sanders', 'Joe Biden', 'Texas', 'Coronavirus', 'COVID-19', 'Apple', 'Hulu', 'Netflix', 'Donald Trump', 'Kamala Harris', 'Hilary Clinton', 'Bernie Sanders', 'Joe Biden', 'Texas', 'Coronavirus', 'COVID-19', 'Apple', 'Hulu', 'Netflix', 'Donald Trump', 'Kamala Harris', 'Hilary Clinton', 'Bernie Sanders', 'Joe Biden', 'Texas', 'Coronavirus', 'COVID-19', 'Apple', 'Hulu', 'Netflix', 'Donald Trump', 'Kamala Harris', 'Hilary Clinton', 'Bernie Sanders', 'Joe Biden', 'Texas', 'Coronavirus', 'COVID-19', 'Donald Trump', 'Donald Trump', 'Donald Trump', 'Donald Trump', 'Donald Trump', 'Donald Trump', 'Donald Trump', 'Donald Trump', 'Donald Trump', 'Donald Trump', 'Donald Trump', 'Donald Trump', 'Donald Trump', 'Donald Trump', 'Donald Trump', 'Donald Trump', 'Donald Trump', 'Donald Trump', 'Donald Trump', 'Donald Trump', 'Donald Trump', 'Donald Trump', 'Donald Trump', 'Donald Trump', 'Clinton', 'Clinton', 'Clinton', 'Clinton', 'Clinton', 'Clinton', 'Clinton', 'Clinton', 'COVID-19', 'Coronavirus', 'Coronavirus', 'Coronavirus', 'Coronavirus', 'Coronavirus', 'Coronavirus', 'Coronavirus', 'Coronavirus', 'COVID-19', 'COVID-19', 'COVID-19', 'COVID-19', 'COVID-19', 'Texas', 'Iran', 'Apple', 'Hulu', 'Netflix', 'Donald Trump', 'Kamala Harris', 'Hilary Clinton', 'Bernie Sanders', 'Joe Biden', 'Texas', 'Coronavirus', 'COVID-19', 'Apple', 'Hulu', 'Netflix', 'Donald Trump', 'Kamala Harris', 'Hilary Clinton', 'Bernie Sanders', 'Joe Biden', 'Texas', 'Coronavirus', 'COVID-19', 'Apple', 'Hulu', 'Netflix', 'Donald Trump', 'Kamala Harris', 'Hilary Clinton', 'Bernie Sanders', 'Joe Biden', 'Texas', 'Coronavirus', 'COVID-19', 'Apple', 'Hulu', 'Netflix', 'Donald Trump', 'Kamala Harris', 'Hilary Clinton', 'Bernie Sanders', 'Joe Biden', 'Texas', 'Coronavirus', 'COVID-19', 'Apple', 'Hulu', 'Netflix', 'Donald Trump', 'Kamala Harris', 'Hilary Clinton', 'Bernie Sanders', 'Joe Biden', 'Texas', 'Coronavirus', 'COVID-19', 'Apple', 'Hulu', 'Netflix', 'Donald Trump', 'Kamala Harris', 'Hilary Clinton', 'Bernie Sanders', 'Joe Biden', 'Texas', 'Coronavirus', 'COVID-19', 'Apple', 'Hulu', 'Netflix', 'Donald Trump', 'Kamala Harris', 'Hilary Clinton', 'Bernie Sanders', 'Joe Biden', 'Texas', 'Coronavirus', 'COVID-19', 'Apple', 'Hulu', 'Netflix', 'Donald Trump', 'Kamala Harris', 'Hilary Clinton', 'Bernie Sanders', 'Joe Biden', 'Texas', 'Coronavirus', 'COVID-19', 'Apple', 'Hulu', 'Netflix', 'Donald Trump', 'Kamala Harris', 'Hilary Clinton', 'Bernie Sanders', 'Joe Biden', 'Texas', 'Coronavirus', 'COVID-19', 'Apple', 'Hulu', 'Netflix', 'Donald Trump', 'Kamala Harris', 'Hilary Clinton', 'Bernie Sanders', 'Joe Biden', 'Texas', 'Coronavirus', 'COVID-19', 'Donald Trump', 'Donald Trump', 'Donald Trump', 'Donald Trump', 'Donald Trump', 'Donald Trump', 'Donald Trump', 'Donald Trump', 'Donald Trump', 'Donald Trump', 'Donald Trump', 'Donald Trump', 'Donald Trump', 'Donald Trump', 'Donald Trump', 'Donald Trump', 'Donald Trump', 'Donald Trump', 'Donald Trump', 'Donald Trump', 'Donald Trump', 'Donald Trump', 'Donald Trump', 'Donald Trump', 'Clinton', 'Clinton', 'Clinton', 'Clinton', 'Clinton', 'Clinton', 'Clinton', 'Clinton', 'COVID-19', 'Coronavirus', 'Coronavirus', 'Coronavirus', 'Coronavirus', 'Coronavirus', 'Coronavirus', 'Coronavirus', 'Coronavirus', 'COVID-19', 'COVID-19', 'COVID-19', 'COVID-19', 'COVID-19', 'Texas', 'Iran', 'Apple', 'Hulu', 'Netflix', 'Donald Trump', 'Kamala Harris', 'Hilary Clinton', 'Bernie Sanders', 'Joe Biden', 'Texas', 'Coronavirus', 'COVID-19', 'Apple', 'Hulu', 'Netflix', 'Donald Trump', 'Kamala Harris', 'Hilary Clinton', 'Bernie Sanders', 'Joe Biden', 'Texas', 'Coronavirus', 'COVID-19', 'Apple', 'Hulu', 'Netflix', 'Donald Trump', 'Kamala Harris', 'Hilary Clinton', 'Bernie Sanders', 'Joe Biden', 'Texas', 'Coronavirus', 'COVID-19', 'Apple', 'Hulu', 'Netflix', 'Donald Trump', 'Kamala Harris', 'Hilary Clinton', 'Bernie Sanders', 'Joe Biden', 'Texas', 'Coronavirus', 'COVID-19', 'Apple', 'Hulu', 'Netflix', 'Donald Trump', 'Kamala Harris', 'Hilary Clinton', 'Bernie Sanders', 'Joe Biden', 'Texas', 'Coronavirus', 'COVID-19', 'Apple', 'Hulu', 'Netflix', 'Donald Trump', 'Kamala Harris', 'Hilary Clinton', 'Bernie Sanders', 'Joe Biden', 'Texas', 'Coronavirus', 'COVID-19', 'Apple', 'Hulu', 'Netflix', 'Donald Trump', 'Kamala Harris', 'Hilary Clinton', 'Bernie Sanders', 'Joe Biden', 'Texas', 'Coronavirus', 'COVID-19', 'Apple', 'Hulu', 'Netflix', 'Donald Trump', 'Kamala Harris', 'Hilary Clinton', 'Bernie Sanders', 'Joe Biden', 'Texas', 'Coronavirus', 'COVID-19', 'Apple', 'Hulu', 'Netflix', 'Donald Trump', 'Kamala Harris', 'Hilary Clinton', 'Bernie Sanders', 'Joe Biden', 'Texas', 'Coronavirus', 'COVID-19', 'Apple', 'Hulu', 'Netflix', 'Donald Trump', 'Kamala Harris', 'Hilary Clinton', 'Bernie Sanders', 'Joe Biden', 'Texas', 'Coronavirus', 'COVID-19', 'Donald Trump', 'Donald Trump', 'Donald Trump', 'Donald Trump', 'Donald Trump', 'Donald Trump', 'Donald Trump', 'Donald Trump', 'Donald Trump', 'Donald Trump', 'Donald Trump', 'Donald Trump', 'Donald Trump', 'Donald Trump', 'Donald Trump', 'Donald Trump', 'Donald Trump', 'Donald Trump', 'Donald Trump', 'Donald Trump', 'Donald Trump', 'Donald Trump', 'Donald Trump', 'Donald Trump', 'Clinton', 'Clinton', 'Clinton', 'Clinton', 'Clinton', 'Clinton', 'Clinton', 'Clinton', 'COVID-19', 'Coronavirus', 'Coronavirus', 'Coronavirus', 'Coronavirus', 'Coronavirus', 'Coronavirus', 'Coronavirus', 'Coronavirus', 'COVID-19', 'COVID-19', 'COVID-19', 'COVID-19', 'COVID-19', 'Texas', 'Iran', 'Apple', 'Hulu', 'Netflix', 'Donald Trump', 'Kamala Harris', 'Hilary Clinton', 'Bernie Sanders', 'Joe Biden', 'Texas', 'Coronavirus', 'COVID-19', 'Apple', 'Hulu', 'Netflix', 'Donald Trump', 'Kamala Harris', 'Hilary Clinton', 'Bernie Sanders', 'Joe Biden', 'Texas', 'Coronavirus', 'COVID-19', 'Apple', 'Hulu', 'Netflix', 'Donald Trump', 'Kamala Harris', 'Hilary Clinton', 'Bernie Sanders', 'Joe Biden', 'Texas', 'Coronavirus', 'COVID-19', 'Apple', 'Hulu', 'Netflix', 'Donald Trump', 'Kamala Harris', 'Hilary Clinton', 'Bernie Sanders', 'Joe Biden', 'Texas', 'Coronavirus', 'COVID-19', 'Apple', 'Hulu', 'Netflix', 'Donald Trump', 'Kamala Harris', 'Hilary Clinton', 'Bernie Sanders', 'Joe Biden', 'Texas', 'Coronavirus', 'COVID-19', 'Apple', 'Hulu', 'Netflix', 'Donald Trump', 'Kamala Harris', 'Hilary Clinton', 'Bernie Sanders', 'Joe Biden', 'Texas', 'Coronavirus', 'COVID-19', 'Apple', 'Hulu', 'Netflix', 'Donald Trump', 'Kamala Harris', 'Hilary Clinton', 'Bernie Sanders', 'Joe Biden', 'Texas', 'Coronavirus', 'COVID-19', 'Apple', 'Hulu', 'Netflix', 'Donald Trump', 'Kamala Harris', 'Hilary Clinton', 'Bernie Sanders', 'Joe Biden', 'Texas', 'Coronavirus', 'COVID-19', 'Apple', 'Hulu', 'Netflix', 'Donald Trump', 'Kamala Harris', 'Hilary Clinton', 'Bernie Sanders', 'Joe Biden', 'Texas', 'Coronavirus', 'COVID-19', 'Apple', 'Hulu', 'Netflix', 'Donald Trump', 'Kamala Harris', 'Hilary Clinton', 'Bernie Sanders', 'Joe Biden', 'Texas', 'Coronavirus', 'COVID-19', 'Donald Trump', 'Donald Trump', 'Donald Trump', 'Donald Trump', 'Donald Trump', 'Donald Trump', 'Donald Trump', 'Donald Trump', 'Donald Trump', 'Donald Trump', 'Donald Trump', 'Donald Trump', 'Donald Trump', 'Donald Trump', 'Donald Trump', 'Donald Trump', 'Donald Trump', 'Donald Trump', 'Donald Trump', 'Donald Trump', 'Donald Trump', 'Donald Trump', 'Donald Trump', 'Donald Trump', 'Clinton', 'Clinton', 'Clinton', 'Clinton', 'Clinton', 'Clinton', 'Clinton', 'Clinton', 'COVID-19', 'Coronavirus', 'Coronavirus', 'Coronavirus', 'Coronavirus', 'Coronavirus', 'Coronavirus', 'Coronavirus', 'Coronavirus', 'COVID-19', 'COVID-19', 'COVID-19', 'COVID-19', 'COVID-19', 'Texas', 'Iran', 'Apple', 'Hulu', 'Netflix', 'Donald Trump', 'Kamala Harris', 'Hilary Clinton', 'Bernie Sanders', 'Joe Biden', 'Texas', 'Coronavirus', 'COVID-19', 'Apple', 'Hulu', 'Netflix', 'Donald Trump', 'Kamala Harris', 'Hilary Clinton', 'Bernie Sanders', 'Joe Biden', 'Texas', 'Coronavirus', 'COVID-19', 'Apple', 'Hulu', 'Netflix', 'Donald Trump', 'Kamala Harris', 'Hilary Clinton', 'Bernie Sanders', 'Joe Biden', 'Texas', 'Coronavirus', 'COVID-19', 'Apple', 'Hulu', 'Netflix', 'Donald Trump', 'Kamala Harris', 'Hilary Clinton', 'Bernie Sanders', 'Joe Biden', 'Texas', 'Coronavirus', 'COVID-19', 'Apple', 'Hulu', 'Netflix', 'Donald Trump', 'Kamala Harris', 'Hilary Clinton', 'Bernie Sanders', 'Joe Biden', 'Texas', 'Coronavirus', 'COVID-19', 'Apple', 'Hulu', 'Netflix', 'Donald Trump', 'Kamala Harris', 'Hilary Clinton', 'Bernie Sanders', 'Joe Biden', 'Texas', 'Coronavirus', 'COVID-19', 'Apple', 'Hulu', 'Netflix', 'Donald Trump', 'Kamala Harris', 'Hilary Clinton', 'Bernie Sanders', 'Joe Biden', 'Texas', 'Coronavirus', 'COVID-19', 'Apple', 'Hulu', 'Netflix', 'Donald Trump', 'Kamala Harris', 'Hilary Clinton', 'Bernie Sanders', 'Joe Biden', 'Texas', 'Coronavirus', 'COVID-19', 'Apple', 'Hulu', 'Netflix', 'Donald Trump', 'Kamala Harris', 'Hilary Clinton', 'Bernie Sanders', 'Joe Biden', 'Texas', 'Coronavirus', 'COVID-19', 'Apple', 'Hulu', 'Netflix', 'Donald Trump', 'Kamala Harris', 'Hilary Clinton', 'Bernie Sanders', 'Joe Biden', 'Texas', 'Coronavirus', 'COVID-19', 'Donald Trump', 'Donald Trump', 'Donald Trump', 'Donald Trump', 'Donald Trump', 'Donald Trump', 'Donald Trump', 'Donald Trump', 'Donald Trump', 'Donald Trump', 'Donald Trump', 'Donald Trump', 'Donald Trump', 'Donald Trump', 'Donald Trump', 'Donald Trump', 'Donald Trump', 'Donald Trump', 'Donald Trump', 'Donald Trump', 'Donald Trump', 'Donald Trump', 'Donald Trump', 'Donald Trump', 'Clinton', 'Clinton', 'Clinton', 'Clinton', 'Clinton', 'Clinton', 'Clinton', 'Clinton', 'COVID-19', 'Coronavirus', 'Coronavirus', 'Coronavirus', 'Coronavirus', 'Coronavirus', 'Coronavirus', 'Coronavirus', 'Coronavirus', 'COVID-19', 'COVID-19', 'COVID-19', 'COVID-19', 'COVID-19', 'Texas', 'Iran', 'Apple', 'Hulu', 'Netflix', 'Donald Trump', 'Kamala Harris', 'Hilary Clinton', 'Bernie Sanders', 'Joe Biden', 'Texas', 'Coronavirus', 'COVID-19', 'Apple', 'Hulu', 'Netflix', 'Donald Trump', 'Kamala Harris', 'Hilary Clinton', 'Bernie Sanders', 'Joe Biden', 'Texas', 'Coronavirus', 'COVID-19', 'Apple', 'Hulu', 'Netflix', 'Donald Trump', 'Kamala Harris', 'Hilary Clinton', 'Bernie Sanders', 'Joe Biden', 'Texas', 'Coronavirus', 'COVID-19', 'Apple', 'Hulu', 'Netflix', 'Donald Trump', 'Kamala Harris', 'Hilary Clinton', 'Bernie Sanders', 'Joe Biden', 'Texas', 'Coronavirus', 'COVID-19', 'Apple', 'Hulu', 'Netflix', 'Donald Trump', 'Kamala Harris', 'Hilary Clinton', 'Bernie Sanders', 'Joe Biden', 'Texas', 'Coronavirus', 'COVID-19', 'Apple', 'Hulu', 'Netflix', 'Donald Trump', 'Kamala Harris', 'Hilary Clinton', 'Bernie Sanders', 'Joe Biden', 'Texas', 'Coronavirus', 'COVID-19', 'Apple', 'Hulu', 'Netflix', 'Donald Trump', 'Kamala Harris', 'Hilary Clinton', 'Bernie Sanders', 'Joe Biden', 'Texas', 'Coronavirus', 'COVID-19', 'Apple', 'Hulu', 'Netflix', 'Donald Trump', 'Kamala Harris', 'Hilary Clinton', 'Bernie Sanders', 'Joe Biden', 'Texas', 'Coronavirus', 'COVID-19', 'Apple', 'Hulu', 'Netflix', 'Donald Trump', 'Kamala Harris', 'Hilary Clinton', 'Bernie Sanders', 'Joe Biden', 'Texas', 'Coronavirus', 'COVID-19', 'Apple', 'Hulu', 'Netflix', 'Donald Trump', 'Kamala Harris', 'Hilary Clinton', 'Bernie Sanders', 'Joe Biden', 'Texas', 'Coronavirus', 'COVID-19', 'Donald Trump', 'Donald Trump', 'Donald Trump', 'Donald Trump', 'Donald Trump', 'Donald Trump', 'Donald Trump', 'Donald Trump', 'Donald Trump', 'Donald Trump', 'Donald Trump', 'Donald Trump', 'Donald Trump', 'Donald Trump', 'Donald Trump', 'Donald Trump', 'Donald Trump', 'Donald Trump', 'Donald Trump', 'Donald Trump', 'Donald Trump', 'Donald Trump', 'Donald Trump', 'Donald Trump', 'Clinton', 'Clinton', 'Clinton', 'Clinton', 'Clinton', 'Clinton', 'Clinton', 'Clinton', 'COVID-19', 'Coronavirus', 'Coronavirus', 'Coronavirus', 'Coronavirus', 'Coronavirus', 'Coronavirus', 'Coronavirus', 'Coronavirus', 'COVID-19', 'COVID-19', 'COVID-19', 'COVID-19', 'COVID-19', 'Texas', 'Iran', 'China', 'Italy', 'Italy', 'Italy', 'Italy', 'Italy', 'Italy', 'Italy', 'Italy', 'Italy', 'Italy', 'Italy', 'Italy', 'Italy', 'Italy', 'Italy', 'Italy', 'Italy', 'Italy', 'Italy', 'Italy', 'Philippines', 'Philippines', 'Philippines', 'Philippines', 'Philippines', 'Philippines', 'Philippines', 'Philippines', 'Philippines', 'Philippines', 'Philippines', 'Philippines', 'Philippines', 'Philippines', 'Philippines', 'Philippines', 'Philippines', 'Philippines', 'Philippines', 'Philippines', 'Philippines', 'Philippines', 'Philippines', 'Philippines', 'Philippines', 'Philippines', 'Philippines', 'Philippines', 'Philippines', 'Philippines', 'Philippines', 'Philippines', 'Philippines', 'Philippines', 'Philippines', 'Philippines', 'Philippines', 'Philippines', 'Philippines', 'Philippines', 'Philippines', 'Philippines', 'Philippines', 'Philippines', 'Philippines', 'Philippines', 'Philippines', 'Philippines', 'Philippines', 'Philippines', 'Philippines', 'Philippines', 'Philippines', 'Philippines', 'Philippines', 'Philippines', 'Philippines', 'Philippines', 'Philippines', 'Philippines', 'Philippines', 'Philippines', 'Philippines', 'Philippines', 'Philippines', 'Philippines', 'Philippines', 'Philippines', 'Philippines', 'Philippines', 'Philippines', 'Philippines', 'Philippines', 'Elizabeth Warren', 'Elizabeth Warren', 'Elizabeth Warren', 'Elizabeth Warren', 'Elizabeth Warren', 'Elizabeth Warren', 'Elizabeth Warren', 'Elizabeth Warren', 'Elizabeth Warren', 'Elizabeth Warren', 'Elizabeth Warren', 'Elizabeth Warren', 'Elizabeth Warren', 'Elizabeth Warren', 'Elizabeth Warren', 'Elizabeth Warren', 'Elizabeth Warren', 'Elizabeth Warren', 'Elizabeth Warren', 'Elizabeth Warren', 'Elizabeth Warren', 'Elizabeth Warren', 'Elizabeth Warren', 'Elizabeth Warren', 'Elizabeth Warren', 'Elizabeth Warren', 'Elizabeth Warren', 'Elizabeth Warren', 'Elizabeth Warren', 'Elizabeth Warren', 'Elizabeth Warren', 'Elizabeth Warren', 'Elizabeth Warren', 'Elizabeth Warren', 'Elizabeth Warren', 'Elizabeth Warren', 'Elizabeth Warren', 'Elizabeth Warren', 'Elizabeth Warren', 'Elizabeth Warren', 'Elizabeth Warren', 'Elizabeth Warren', 'Elizabeth Warren', 'Elizabeth Warren', 'Elizabeth Warren', 'Elizabeth Warren', 'Elizabeth Warren', 'Elizabeth Warren', 'Elizabeth Warren', 'Elizabeth Warren', 'Elizabeth Warren', 'Elizabeth Warren', 'Elizabeth Warren', 'Elizabeth Warren', 'Elizabeth Warren', 'Elizabeth Warren', 'Elizabeth Warren', 'Elizabeth Warren', 'Elizabeth Warren', 'Elizabeth Warren', 'Elizabeth Warren', 'Bernie Sanders', 'Bernie Sanders', 'Bernie Sanders', 'Bernie Sanders', 'Bernie Sanders', 'Bernie Sanders', 'Bernie Sanders', 'Bernie Sanders', 'Bernie Sanders', 'Bernie Sanders', 'Bernie Sanders', 'Bernie Sanders', 'Bernie Sanders', 'Bernie Sanders', 'Bernie Sanders', 'Bernie Sanders', 'Bernie Sanders', 'Bernie Sanders', 'Bernie Sanders', 'Bernie Sanders', 'Bernie Sanders', 'Bernie Sanders', 'Bernie Sanders', 'Bernie Sanders', 'Bernie Sanders', 'Bernie Sanders', 'Bernie Sanders', 'Bernie Sanders', 'Bernie Sanders', 'Bernie Sanders', 'Bernie Sanders', 'Bernie Sanders', 'Bernie Sanders', 'Bernie Sanders', 'Bernie Sanders', 'Bernie Sanders', 'Bernie Sanders', 'Bernie Sanders', 'Bernie Sanders', 'Bernie Sanders', 'Bernie Sanders', 'Bernie Sanders', 'Bernie Sanders', 'Bernie Sanders', 'Bernie Sanders', 'Bernie Sanders', 'Bernie Sanders', 'Bernie Sanders', 'Bernie Sanders', 'Bernie Sanders', 'Bernie Sanders', 'Bernie Sanders', 'Bernie Sanders', 'Bernie Sanders', 'Bernie Sanders', 'Bernie Sanders', 'Bernie Sanders', 'Bernie Sanders', 'Bernie Sanders', 'Bernie Sanders', 'Bernie Sanders', 'Bernie Sanders', 'Bernie Sanders', 'Bernie Sanders', 'Bernie Sanders', 'Bernie Sanders', 'Bernie Sanders', 'Bernie Sanders', 'Bernie Sanders', 'Bernie Sanders', 'Bernie Sanders', 'Bernie Sanders', 'Bernie Sanders', 'Bernie Sanders', 'Bernie Sanders', 'Bernie Sanders', 'Bernie Sanders', 'Bernie Sanders', 'Bernie Sanders', 'Bernie Sanders', 'Bernie Sanders', 'Bernie Sanders', 'Bernie Sanders', 'Bernie Sanders', 'Bernie Sanders', 'Bernie Sanders', 'Bernie Sanders', 'Bernie Sanders', 'Bernie Sanders', 'Bernie Sanders', 'Bernie Sanders', 'Republicans', 'Democrats', 'Republicans', 'Democrats', 'Republicans', 'Democrats', 'Republicans', 'Democrats', 'Republicans', 'Democrats', 'Republicans', 'Democrats', 'Republicans', 'Democrats', 'Republicans', 'Democrats', 'Republicans', 'Democrats', 'Republicans', 'Democrats', 'Republicans', 'Democrats', 'Republicans', 'Democrats', 'Republicans', 'Democrats', 'Republicans', 'Democrats', 'Republicans', 'Democrats', 'Republicans', 'Democrats', 'Republicans', 'Democrats', 'Republicans', 'Democrats', 'Republicans', 'Democrats', 'Republicans', 'Democrats', 'Republicans', 'Democrats', 'Republicans', 'Democrats', 'Republicans', 'Democrats', 'Republicans', 'Democrats', 'Republicans', 'Democrats', 'Republicans', 'Democrats', 'Republicans', 'Democrats', 'Republicans', 'Democrats', 'Republicans', 'Democrats', 'Republicans', 'Democrats', 'Republicans', 'Democrats', 'Republicans', 'Democrats', 'WHO', 'WHO', 'WHO', 'WHO', 'WHO', 'WHO', 'WHO', 'WHO', 'WHO', 'WHO', 'WHO', 'WHO', 'WHO', 'WHO', 'WHO', 'WHO', 'WHO', 'WHO', 'WHO', 'WHO', 'WHO', 'WHO', 'WHO', 'WHO', 'WHO', 'WHO', 'WHO', 'WHO', 'WHO', 'WHO', 'Apple Watch', 'Peloton', 'Apple Watch', 'Peloton', 'Apple Watch', 'Peloton', 'Apple Watch', 'Peloton', 'Apple Watch', 'Peloton', 'Apple Watch', 'Peloton', 'Apple Watch', 'Peloton', 'Apple Watch', 'Peloton', 'Apple Watch', 'Peloton', 'Apple Watch', 'Peloton', 'Apple Watch', 'Peloton', 'Apple Watch', 'Peloton', 'Apple Watch', 'Peloton', 'Apple Watch', 'Peloton', 'Apple Watch', 'Peloton', 'Apple Watch', 'Peloton', 'Apple Watch', 'Peloton', 'Apple Watch', 'Peloton', 'Apple Watch', 'Peloton', 'Apple Watch', 'Peloton', 'Apple Watch', 'Peloton', 'Apple Watch', 'Peloton', 'Apple Watch', 'Peloton', 'Apple Watch', 'Peloton', 'Apple Watch', 'Peloton', 'Apple Watch', 'Peloton', 'Apple Watch', 'Peloton', 'Apple Watch', 'Peloton', 'Apple Watch', 'Peloton', 'Apple Watch', 'Peloton', 'Apple Watch', 'Peloton', 'Apple Watch', 'Peloton', 'Apple Watch', 'Peloton', 'Apple Watch', 'Peloton', 'Apple Watch', 'Peloton', 'Apple Watch', 'Peloton', 'Apple Watch', 'Peloton', 'Apple Watch', 'Peloton', 'Apple Watch', 'Peloton', 'Apple Watch', 'Peloton', 'Apple Watch', 'Peloton', 'Apple Watch', 'Peloton', 'Apple Watch', 'Peloton', 'Harley Davidson', 'Harley Davidson', 'Harley Davidson', 'Harley Davidson', 'Harley Davidson', 'Harley Davidson', 'Harley Davidson', 'Harley Davidson', 'Harley Davidson', 'Harley Davidson', 'Harley Davidson', 'Harley Davidson', 'Harley Davidson', 'Harley Davidson', 'Harley Davidson', 'Harley Davidson', 'Harley Davidson', 'Harley Davidson', 'Harley Davidson', 'Harley Davidson', 'Harley Davidson', 'Harley Davidson', 'Harley Davidson', 'Harley Davidson', 'Harley Davidson', 'Harley Davidson', 'Harley Davidson', 'Harley Davidson', 'Harley Davidson', 'Harley Davidson', 'Harley Davidson', 'Harley Davidson', 'Harley Davidson', 'Harley Davidson', 'Harley Davidson', 'Harley Davidson', 'Harley Davidson', 'Harley Davidson', 'Harley Davidson', 'Harley Davidson', 'Harley Davidson', 'Harley Davidson', 'Harley Davidson', 'Harley Davidson', 'Harley Davidson', 'Harley Davidson', 'Harley Davidson', 'Harley Davidson', 'Harley Davidson', 'Harley Davidson', 'Harley Davidson', 'Harley Davidson', 'Harley Davidson', 'Harley Davidson', 'Harley Davidson', 'Harley Davidson', 'Harley Davidson', 'Harley Davidson', \"St. Patricks's Day\", \"St. Patricks's Day\", \"St. Patricks's Day\", \"St. Patricks's Day\", \"St. Patricks's Day\", \"St. Patricks's Day\", \"St. Patricks's Day\", \"St. Patricks's Day\", \"St. Patricks's Day\", \"St. Patricks's Day\", \"St. Patricks's Day\", \"St. Patricks's Day\", \"St. Patricks's Day\", \"St. Patricks's Day\", \"St. Patricks's Day\", \"St. Patricks's Day\", \"St. Patricks's Day\", \"St. Patricks's Day\", \"St. Patricks's Day\", \"St. Patricks's Day\", \"St. Patricks's Day\", \"St. Patricks's Day\", \"St. Patricks's Day\", \"St. Patricks's Day\", \"St. Patricks's Day\", \"St. Patricks's Day\", \"St. Patricks's Day\", \"St. Patricks's Day\", \"St. Patricks's Day\", \"St. Patricks's Day\", \"St. Patricks's Day\", \"St. Patricks's Day\", \"St. Patricks's Day\", \"St. Patricks's Day\", \"St. Patricks's Day\", \"St. Patricks's Day\", \"St. Patricks's Day\", \"St. Patricks's Day\", \"St. Patricks's Day\", \"St. Patricks's Day\", \"St. Patricks's Day\", \"St. Patricks's Day\", \"St. Patricks's Day\", \"St. Patricks's Day\", \"St. Patricks's Day\", \"St. Patricks's Day\", \"St. Patricks's Day\", \"St. Patricks's Day\", \"St. Patricks's Day\", \"St. Patricks's Day\", \"St. Patricks's Day\", \"St. Patricks's Day\", \"St. Patricks's Day\", \"St. Patricks's Day\", \"St. Patricks's Day\", \"St. Patricks's Day\", \"St. Patricks's Day\", \"St. Patricks's Day\", \"St. Patricks's Day\", \"St. Patricks's Day\", \"St. Patricks's Day\", \"St. Patricks's Day\", \"St. Patricks's Day\", 'Easter', 'Easter', 'Easter', 'Easter', 'Easter', 'Easter', 'Easter', 'Easter', 'Easter', 'Easter', 'Easter', 'Easter', 'Easter', 'Easter', 'Easter', 'Easter', 'Easter', 'Easter', 'Easter', 'Easter', 'Easter', 'Easter', 'Easter', 'Easter', 'Easter', 'Easter', 'Easter', 'Easter', 'Easter', 'Easter', 'Easter', 'Easter', 'Easter', 'Easter', 'Easter', 'Easter', 'Easter', 'Easter', 'Easter', 'Easter', 'Easter', 'Easter', 'Easter', 'Easter', 'Black Friday', 'Black Friday', 'Black Friday', 'Black Friday', 'Black Friday', 'Black Friday', 'Black Friday', 'Black Friday', 'Black Friday', 'Black Friday', 'Black Friday', 'Black Friday', 'Black Friday', 'Black Friday', 'Black Friday', 'Black Friday', 'Black Friday', 'Black Friday', 'Black Friday', 'Black Friday', 'Black Friday', 'Black Friday', 'Black Friday', 'Black Friday', 'Black Friday', 'Black Friday', 'Black Friday', 'Black Friday', 'Black Friday', 'Black Friday', 'Black Friday', 'Black Friday', 'Black Friday', 'Black Friday', 'Black Friday', 'Black Friday', 'Black Friday', 'Super Tuesday', 'Super Tuesday', 'Super Tuesday', 'Super Tuesday', 'Super Tuesday', 'Super Tuesday', 'Super Tuesday', 'Super Tuesday', 'Super Tuesday', 'Super Tuesday', 'Super Tuesday', 'Super Tuesday', 'Super Tuesday', 'Super Tuesday', 'Super Tuesday', 'Super Tuesday', 'Super Tuesday', 'Super Tuesday', 'Super Tuesday', 'Super Tuesday', 'Super Tuesday', 'Super Tuesday', 'Super Tuesday', 'Super Tuesday', 'Super Tuesday', 'Super Tuesday', 'Super Tuesday', 'Super Tuesday', 'Super Tuesday', 'Super Tuesday', 'Super Tuesday', 'Super Tuesday', 'Super Tuesday', 'Super Tuesday', 'Super Tuesday', 'Super Tuesday', 'Super Tuesday', 'Super Tuesday', 'Super Tuesday', 'Super Tuesday', 'Super Tuesday', 'Super Tuesday', 'Super Tuesday', 'Super Tuesday', 'Super Tuesday', 'Super Tuesday', 'Super Tuesday', 'Super Tuesday', 'Super Tuesday', 'Super Tuesday', 'Super Tuesday', 'Super Tuesday', 'Super Tuesday', 'Super Tuesday', 'Super Tuesday', 'Super Tuesday', 'Super Tuesday', 'Super Tuesday', 'Super Tuesday', 'Super Tuesday', 'Super Tuesday', 'Super Tuesday', 'Super Tuesday', 'Super Tuesday', 'Super Tuesday', 'Super Tuesday', 'Super Tuesday', 'Super Tuesday', 'Super Tuesday', 'Super Tuesday', 'Super Tuesday', 'Super Tuesday', 'Super Tuesday', 'Super Tuesday', 'Super Tuesday', 'Super Tuesday', 'Super Tuesday', 'Super Tuesday', 'Super Tuesday', 'Super Tuesday', 'Super Tuesday', 'Super Tuesday', 'Super Tuesday', 'Super Tuesday', 'Super Tuesday', 'Super Tuesday', 'Super Tuesday', 'Super Tuesday', 'Christmas', 'Christmas', 'Christmas', 'Christmas', 'Christmas', 'Christmas', 'Christmas', 'Christmas', 'Christmas', 'Christmas', 'Christmas', 'Christmas', 'Christmas', 'Christmas', 'Christmas', 'Christmas', 'Christmas', 'Christmas', 'Christmas', 'Christmas', 'Christmas', 'Christmas', 'Christmas', 'Christmas', 'Christmas', 'Christmas', 'Christmas', 'Christmas', 'Christmas', 'Christmas', 'Christmas', 'Christmas', 'Christmas', 'Christmas', 'Christmas', 'Christmas', 'Christmas', 'Christmas', 'Christmas', 'Christmas', 'Christmas', 'Christmas', 'Christmas', 'Christmas', 'Christmas', 'Christmas', 'Christmas', 'Christmas', 'Christmas', 'Christmas', 'Christmas', 'Christmas', 'Christmas', 'Christmas', 'Christmas', 'Christmas', 'Christmas', 'Christmas', 'Christmas', 'Christmas', 'Christmas', 'Christmas', 'Christmas', 'Christmas', 'Christmas', 'Christmas', 'Christmas', 'Christmas', 'Christmas', 'Christmas', 'Christmas', 'Christmas', 'Christmas', 'Christmas', 'Christmas', 'Christmas', 'Christmas', 'Christmas', 'Christmas', 'Christmas', 'Christmas', 'Christmas', 'Christmas', 'Christmas', 'Christmas', 'Christmas', 'Christmas', 'Christmas', 'Christmas', 'Christmas', 'Christmas', 'Christmas', 'Christmas', 'Christmas', 'Christmas', 'Christmas', 'Christmas', 'Christmas', 'Christmas', 'Christmas', 'Christmas', 'Christmas', 'Christmas', 'Christmas', 'Christmas', 'Christmas', 'Christmas', 'Christmas', 'Christmas']"
      ]
     },
     "execution_count": 4,
     "metadata": {},
     "output_type": "execute_result"
    }
   ],
   "source": [
    "ARTICLE"
   ]
  },
  {
   "cell_type": "code",
   "execution_count": 5,
   "metadata": {},
   "outputs": [],
   "source": [
    "def ner_person(df):\n",
    "    # person: people, including fictional characters\n",
    "    person_list = []\n",
    "    for ent in ARTICLE.ents:\n",
    "        if ent.label_ == 'PERSON':\n",
    "            person_list.append(ent.text)\n",
    "    person = Counter(person_list).most_common(40)\n",
    "    return person\n",
    "\n",
    "def ner_group(df):\n",
    "    # norp: nationalities or religious or political groups\n",
    "    norp_list = []\n",
    "    for ent in ARTICLE.ents:\n",
    "        if ent.label_ == 'NORP':\n",
    "            norp_list.append(ent.text)\n",
    "    group = Counter(norp_list).most_common(40)\n",
    "    return group\n",
    "\n",
    "def ner_org(df):\n",
    "    # org: companies, agencies, institutions, etc\n",
    "    org_list = []\n",
    "    for ent in ARTICLE.ents:\n",
    "        if ent.label_ == 'ORG':\n",
    "            org_list.append(ent.text)\n",
    "    org = Counter(org_list).most_common(40)\n",
    "    return org\n",
    "\n",
    "def ner_geo(df):\n",
    "    # gpe: countries, cities, states\n",
    "    geo_list = []\n",
    "    for ent in ARTICLE.ents:\n",
    "        if ent.label_ == 'GPE':\n",
    "            geo_list.append(ent.text)\n",
    "    geo = Counter(geo_list).most_common(40)\n",
    "    return geo\n",
    "\n",
    "def ner_product(df):\n",
    "    # product: objects, vehicles, foods, etc. (Not services.) \n",
    "    product_list = []\n",
    "    for ent in ARTICLE.ents:\n",
    "        if ent.label_ == 'PRODUCT':\n",
    "            product_list.append(ent.text)\n",
    "    product = Counter(product_list).most_common(40)\n",
    "    return product\n",
    "\n",
    "def ner_event(df):\n",
    "    # event: named hurricanes, battles, wars, sports events, etc \n",
    "    event_list = []\n",
    "    for ent in ARTICLE.ents:\n",
    "        if ent.label_ == 'EVENT':\n",
    "            event_list.append(ent.text)\n",
    "    event = Counter(event_list).most_common(40)\n",
    "    return event"
   ]
  },
  {
   "cell_type": "code",
   "execution_count": 6,
   "metadata": {},
   "outputs": [
    {
     "data": {
      "text/plain": [
       "[(\"Donald Trump'\", 306),\n",
       " (\"Kamala Harris'\", 90),\n",
       " (\"Hilary Clinton'\", 90),\n",
       " ('Clinton', 72),\n",
       " ('Coronavirus', 72),\n",
       " (\"Elizabeth Warren'\", 61)]"
      ]
     },
     "execution_count": 6,
     "metadata": {},
     "output_type": "execute_result"
    }
   ],
   "source": [
    "ner_person(df)"
   ]
  },
  {
   "cell_type": "code",
   "execution_count": 7,
   "metadata": {},
   "outputs": [
    {
     "data": {
      "text/plain": [
       "[('Republicans', 32), ('Democrats', 32)]"
      ]
     },
     "execution_count": 7,
     "metadata": {},
     "output_type": "execute_result"
    }
   ],
   "source": [
    "ner_group(df)"
   ]
  },
  {
   "cell_type": "code",
   "execution_count": 8,
   "metadata": {},
   "outputs": [
    {
     "data": {
      "text/plain": [
       "[('Coronavirus', 90),\n",
       " ('Apple', 89),\n",
       " (\"St. Patricks's Day\", 63),\n",
       " (\"'Harley Davidson'\", 58),\n",
       " (\"Apple Watch'\", 43)]"
      ]
     },
     "execution_count": 8,
     "metadata": {},
     "output_type": "execute_result"
    }
   ],
   "source": [
    "ner_org(df)"
   ]
  },
  {
   "cell_type": "code",
   "execution_count": 9,
   "metadata": {},
   "outputs": [
    {
     "data": {
      "text/plain": [
       "[('Texas', 99), ('Philippines', 73), ('Italy', 20), ('Iran', 9), ('China', 1)]"
      ]
     },
     "execution_count": 9,
     "metadata": {},
     "output_type": "execute_result"
    }
   ],
   "source": [
    "ner_geo(df)"
   ]
  },
  {
   "cell_type": "code",
   "execution_count": 10,
   "metadata": {},
   "outputs": [
    {
     "data": {
      "text/plain": [
       "[]"
      ]
     },
     "execution_count": 10,
     "metadata": {},
     "output_type": "execute_result"
    }
   ],
   "source": [
    "ner_product(df)"
   ]
  },
  {
   "cell_type": "code",
   "execution_count": 11,
   "metadata": {},
   "outputs": [
    {
     "data": {
      "text/plain": [
       "[(\"Black Friday'\", 37)]"
      ]
     },
     "execution_count": 11,
     "metadata": {},
     "output_type": "execute_result"
    }
   ],
   "source": [
    "ner_event(df)"
   ]
  },
  {
   "cell_type": "code",
   "execution_count": null,
   "metadata": {},
   "outputs": [],
   "source": []
  }
 ],
 "metadata": {
  "kernelspec": {
   "display_name": "Python 3",
   "language": "python",
   "name": "python3"
  },
  "language_info": {
   "codemirror_mode": {
    "name": "ipython",
    "version": 3
   },
   "file_extension": ".py",
   "mimetype": "text/x-python",
   "name": "python",
   "nbconvert_exporter": "python",
   "pygments_lexer": "ipython3",
   "version": "3.6.10"
  }
 },
 "nbformat": 4,
 "nbformat_minor": 2
}
